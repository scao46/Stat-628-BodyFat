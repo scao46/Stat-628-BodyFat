{
 "cells": [
  {
   "cell_type": "markdown",
   "metadata": {},
   "source": [
    "# Summary of BodyFat Analysis"
   ]
  },
  {
   "cell_type": "markdown",
   "metadata": {},
   "source": [
    "# 1. Introduction"
   ]
  },
  {
   "cell_type": "markdown",
   "metadata": {},
   "source": [
    "The body fat percentage of a human or other living being is the total mass of fat divided by total body mass, times 100; body fat includes essential body fat and storage body fat. Essential body fat is necessary to maintain life and reproductive functions. Epidemiologically, the percentage of body fat in an individual varies according to sex and age. The body fat percentage is a measure of fitness level, since it is the only body measurement which directly calculates a person's relative body composition without regard to height or weight.\n",
    "\n",
    "However, accurate measurement of body fat is costly and it is desirable to use more convenient methods to estimate body fat. There are many methods to build predictive models, from linear regression to Lasso regression to more complicated ones like random forest. In this project, our group try to come up with a simple, robust and accurate method to estimate percentage of body fat using clinically available measurements. \n",
    "\n",
    "We come up with a result that a multiple linear model, with covariates *ABDOMEN*, *WRIST* and *WEIGHT* predicts *BODYFAT* very accurately, and stays simple and robust as well."
   ]
  },
  {
   "cell_type": "markdown",
   "metadata": {},
   "source": [
    "# 2. Data Preprocessing"
   ]
  },
  {
   "cell_type": "markdown",
   "metadata": {},
   "source": [
    "The data *BodyFat* includes a response column, ***BODYFAT***, an index column, ***IDNO***, and 15 possible variables including *AGE*, *WEIGHT(lbs)*, *HEIGHT(inches)*, etc. The measurement units of each variable are shown in table below. \n",
    "\n",
    "|**BodyFat**|**Age**|**Weight**|**Height**|**Adiposity**|**Neck**|**Chest**|**Abdomen**|**Hip**|**Thigh**|**Knee**|**Ankle**|**Biceps**|**Foream**|**Wrist**|\n",
    "|:-----:|:-----:|:-----:|:-----:|:-----:|:-----:|:-----:|:-----:|:-----:|:-----:|:-----:|:-----:|:-----:|:-----:|:-----:|\n",
    "|%|years|lbs|inches|bmi|cm|cm|cm|cm|cm|cm|cm|cm|cm|cm|"
   ]
  },
  {
   "cell_type": "markdown",
   "metadata": {},
   "source": [
    " Notice here we do not consider ***DENSITY*** as a possible variable because *density* and *bodyfat* are perfectly related to each other by the formula $100*B = 495/D - 450$. Moreover, *density* is not a variable that is able to be measured directly, while **BodyFat** can be measured and therefore we can check if the prediction is accurate.\n",
    "\n",
    "To begin with, we take a rough look at the column *BODYFAT*."
   ]
  },
  {
   "cell_type": "code",
   "execution_count": 72,
   "metadata": {},
   "outputs": [
    {
     "data": {
      "text/plain": [
       "   Min. 1st Qu.  Median    Mean 3rd Qu.    Max. \n",
       "   0.00   12.80   19.00   18.94   24.60   45.10 "
      ]
     },
     "metadata": {},
     "output_type": "display_data"
    }
   ],
   "source": [
    "source(\"./code/data.R\");summary(BodyFat$BODYFAT)"
   ]
  },
  {
   "cell_type": "markdown",
   "metadata": {},
   "source": [
    "The minimum *BODYFAT* value is 0, which obviously is abnormal. It's probably a typo. In order to make our model more accurate, we simply delete this abnormal observation in the following analysis.\n",
    "\n",
    "Next, we would like to see if there are more outliers or influential points in this dataset."
   ]
  },
  {
   "cell_type": "code",
   "execution_count": 74,
   "metadata": {
    "scrolled": false
   },
   "outputs": [
    {
     "data": {
      "image/png": "[encoded data removed]",
      "text/plain": [
       "plot without title"
      ]
     },
     "metadata": {},
     "output_type": "display_data"
    }
   ],
   "source": [
    "options(repr.plot.width=7, repr.plot.height=3);\n",
    "multiplot(pHeight,pWeight,layout=matrix(data=c(1,2),nrow=1,byrow = T))"
   ]
  },
  {
   "cell_type": "markdown",
   "metadata": {},
   "source": [
    "The 42nd observation in the **Height** histogram is only 29.5 inches tall(75cm), which is way shorter than normal people. However, the **Weight** and **Adiposity** values are normal, which indicates the value **Height** may be a typo. In this case, we have strong evidence to delete it.\n",
    "The 39th observation in the **Weight** histogram is way heavier than other observations. In the sense of building a robust model for normal people, we do not consider the extreme example like this. Thus, we also remove the 39th record in further analysis.\n",
    "\n",
    "We do not delete the rest potential outliers, since they do not show obvious abnormality and we try to keep as much information as possible."
   ]
  },
  {
   "cell_type": "markdown",
   "metadata": {},
   "source": [
    "# 3. Statistical Modeling"
   ]
  },
  {
   "cell_type": "markdown",
   "metadata": {},
   "source": [
    "Based on prior knowledge of bodyfat, we think linear model is an appropriate model in this analysis. In order to achieve the goal of coming up with a simple, robust, and accurate “rule-of-thumb” method, we try to fit a multiple linear model. However, 14 variables seem to be too much in practice. We use different methods to do variable selection, and compare their performances.\n",
    "\n",
    "Before modeling, we randomly choose 200 data as train set, and leave the rest as validation set. All the models are based on train set only, and tested on the validation set to check performance. "
   ]
  },
  {
   "cell_type": "markdown",
   "metadata": {},
   "source": [
    "Our goal is to find a model that is\n",
    "* *simple*：no more than 5 variables\n",
    "* *accurate*: predict well on the validation set\n",
    "* *robust*: is not influenced too much by extreme values"
   ]
  },
  {
   "cell_type": "markdown",
   "metadata": {},
   "source": [
    "## 3.1 Multiple Linear Regression"
   ]
  },
  {
   "cell_type": "markdown",
   "metadata": {},
   "source": [
    "Based on other published work on this topic, a multiple linear model is likely to fit well:\n",
    "\n",
    "$$ \\text{(Body Fat %)}_i = \\beta_0 + \\beta_1x_1 + \\dots + \\beta_p x_p + \\epsilon_i, \\quad{} \\epsilon_i \\sim N(0,\\sigma^2) $$\n",
    "\n",
    "However, 14 variables are too many for a model to predict bodyfat, especially in this case. Some variables may not be useful, and may have high collinearity, which requires us to remove thr redundant ones. For example, in common sense, a person who is heavy also tends to have larger body circumferences. Therefore, we need to do variable selection."
   ]
  },
  {
   "cell_type": "markdown",
   "metadata": {},
   "source": [
    "### 3.1.1 Variable Selection"
   ]
  },
  {
   "cell_type": "markdown",
   "metadata": {},
   "source": [
    "We tried stepwise model selection based on crteria like Mallow's Cp, AIC and BIC, and fit multiple linear models based on the variables selected. We compare each model's performance on validation set, and select one method that have the smallest mean squared error: $MSE = \\frac{1}{N}\\sum_{i=1}^{N}(y_i-\\hat y_i)^2$"
   ]
  },
  {
   "cell_type": "markdown",
   "metadata": {},
   "source": [
    "**Method**|Mallow's Cp|AIC|BIC\n",
    ":-----:|:-----:|:-----:|:-----:\n",
    "**MSE**|15.069|14.702|13.989\n",
    "\n",
    "\n",
    "We find that when using the BIC method, the mean square error on validation set is the smallest. Variables *ABDOMEN*, *WRIST* and *WEIGHT* are selected, as shown below.\n",
    "At this point, we come up with a multiple linear regression:\n",
    "\n",
    "$$\\text{BodyFat%}\\text{ ~ }\\text{Abdomen}+\\text{Wrist}+\\text{Weight}$$"
   ]
  },
  {
   "cell_type": "markdown",
   "metadata": {},
   "source": [
    "### 3.1.2 MLR and interpret results"
   ]
  },
  {
   "cell_type": "code",
   "execution_count": 65,
   "metadata": {},
   "outputs": [
    {
     "data": {
      "text/html": [
       "<table>\n",
       "<thead><tr><th></th><th scope=col>Estimate</th><th scope=col>Std. Error</th><th scope=col>t value</th><th scope=col>Pr(&gt;|t|)</th></tr></thead>\n",
       "<tbody>\n",
       "\t<tr><th scope=row>(Intercept)</th><td>-23.794</td><td>7.177  </td><td>-3.315 </td><td>0.001  </td></tr>\n",
       "\t<tr><th scope=row>WEIGHT</th><td> -0.073</td><td>0.025  </td><td>-2.914 </td><td>0.004  </td></tr>\n",
       "\t<tr><th scope=row>ABDOMEN</th><td>  0.852</td><td>0.060  </td><td>14.309 </td><td>0.000  </td></tr>\n",
       "\t<tr><th scope=row>WRIST</th><td> -1.258</td><td>0.461  </td><td>-2.728 </td><td>0.007  </td></tr>\n",
       "</tbody>\n",
       "</table>\n"
      ],
      "text/latex": [
       "\\begin{tabular}{r|llll}\n",
       "  & Estimate & Std. Error & t value & Pr(>\\textbar{}t\\textbar{})\\\\\n",
       "\\hline\n",
       "\t(Intercept) & -23.794 & 7.177   & -3.315  & 0.001  \\\\\n",
       "\tWEIGHT &  -0.073 & 0.025   & -2.914  & 0.004  \\\\\n",
       "\tABDOMEN &   0.852 & 0.060   & 14.309  & 0.000  \\\\\n",
       "\tWRIST &  -1.258 & 0.461   & -2.728  & 0.007  \\\\\n",
       "\\end{tabular}\n"
      ],
      "text/markdown": [
       "\n",
       "| <!--/--> | Estimate | Std. Error | t value | Pr(>|t|) | \n",
       "|---|---|---|---|\n",
       "| (Intercept) | -23.794 | 7.177   | -3.315  | 0.001   | \n",
       "| WEIGHT |  -0.073 | 0.025   | -2.914  | 0.004   | \n",
       "| ABDOMEN |   0.852 | 0.060   | 14.309  | 0.000   | \n",
       "| WRIST |  -1.258 | 0.461   | -2.728  | 0.007   | \n",
       "\n",
       "\n"
      ],
      "text/plain": [
       "            Estimate Std. Error t value Pr(>|t|)\n",
       "(Intercept) -23.794  7.177      -3.315  0.001   \n",
       "WEIGHT       -0.073  0.025      -2.914  0.004   \n",
       "ABDOMEN       0.852  0.060      14.309  0.000   \n",
       "WRIST        -1.258  0.461      -2.728  0.007   "
      ]
     },
     "metadata": {},
     "output_type": "display_data"
    },
    {
     "name": "stdout",
     "output_type": "stream",
     "text": [
      "MSE on the train set: 16.0271\n",
      "MSE on the validation set: 13.9888\n",
      "Multiple R squared: 0.7217"
     ]
    }
   ],
   "source": [
    "source(\"code/mlr.R\");model.BIC.coeff\n",
    "cat(\"MSE on the train set:\", mlr.MSE.train)\n",
    "cat(\"\\nMSE on the validation set:\", mlr.MSE.test)\n",
    "cat(\"\\nMultiple R squared:\", Multiple.R.Squared)"
   ]
  },
  {
   "cell_type": "markdown",
   "metadata": {},
   "source": [
    "All coefficients are significant, which is not surprising. The result means:\n",
    "* **Coefficients**: For example, keep other variables constant, if abdomen circumference increases by 1 cm, the body fat percentage will increase by 0.85%.\n",
    "* **MSE**: Measures how well the prediction is. For example, the standard error of a prediction on the test data set can be estimated by $\\sqrt{\\text{MSE}} = 3.74$\n",
    "* **Multiple R-squared**: Indicates that the variables explain about 72% of all the variation in BodyFat%"
   ]
  },
  {
   "cell_type": "markdown",
   "metadata": {},
   "source": [
    "### 3.1.3 Model Diagnosis"
   ]
  },
  {
   "cell_type": "markdown",
   "metadata": {},
   "source": [
    "Check Gauss-Markov assumptions: Gauss-Markov assumptions are met. Furthermore, no plausible highly influential points."
   ]
  },
  {
   "cell_type": "code",
   "execution_count": 75,
   "metadata": {},
   "outputs": [
    {
     "data": {
      "image/png": "[encoded data removed]",
      "text/plain": [
       "plot without title"
      ]
     },
     "metadata": {},
     "output_type": "display_data"
    }
   ],
   "source": [
    "source(\"code/lasso.R\");options(repr.plot.width=7, repr.plot.height=3)\n",
    "multiplot(d1,d2,layout=matrix(data=c(1,2),nrow=1,byrow = T))"
   ]
  },
  {
   "cell_type": "markdown",
   "metadata": {},
   "source": [
    "Check multi-colinearity: use *vif()* function to check multicollinearity between the variables selected. If the number is less than 10, we assume no significant multicollinearity among these variables."
   ]
  },
  {
   "cell_type": "code",
   "execution_count": 52,
   "metadata": {
    "scrolled": true
   },
   "outputs": [
    {
     "data": {
      "text/html": [
       "<table>\n",
       "<thead><tr><th scope=col>WEIGHT</th><th scope=col>ABDOMEN</th><th scope=col>WRIST</th></tr></thead>\n",
       "<tbody>\n",
       "\t<tr><td>5.67 </td><td>4.488</td><td>1.989</td></tr>\n",
       "</tbody>\n",
       "</table>\n"
      ],
      "text/latex": [
       "\\begin{tabular}{lll}\n",
       " WEIGHT & ABDOMEN & WRIST\\\\\n",
       "\\hline\n",
       "\t 5.67  & 4.488 & 1.989\\\\\n",
       "\\end{tabular}\n"
      ],
      "text/markdown": [
       "\n",
       "WEIGHT | ABDOMEN | WRIST | \n",
       "|---|\n",
       "| 5.67  | 4.488 | 1.989 | \n",
       "\n",
       "\n"
      ],
      "text/plain": [
       "     WEIGHT ABDOMEN WRIST\n",
       "[1,] 5.67   4.488   1.989"
      ]
     },
     "metadata": {},
     "output_type": "display_data"
    }
   ],
   "source": [
    "t(mlr.vif)"
   ]
  },
  {
   "cell_type": "markdown",
   "metadata": {},
   "source": [
    "## 3.2 LASSO"
   ]
  },
  {
   "cell_type": "markdown",
   "metadata": {},
   "source": [
    "Lasso is another approach to select variables. The advantage of this method is that we can minimize the MSE on the validation set. \n",
    "\n",
    "The model is still: \n",
    "$$ \\text{(Body Fat %)}_i = \\beta_0 + \\beta_1x_1 + \\dots + \\beta_p x_p$$\n",
    "\n",
    "However, instead of minimizing $\\sum_{i=1}^N (y_i-\\beta_0-\\beta_1x_i - \\dots - \\beta_px_p)^2$, which is what multiple linear regression does, Lasso minimizes:\n",
    "\n",
    "$$\\sum_{i=1}^N (y_i-\\beta_0-\\beta_1x_i - \\dots - \\beta_px_p)^2 +\\lambda \\left|\\sum_{j=1}^p \\beta_j \\right| $$\n",
    "\n",
    "We try different $\\lambda^{(k)}$ to fit on the train set, then get coefficients $\\beta^{(k)} = (\\beta_0, \\beta_1, \\dots, \\beta_{14})^{(k)}$. Then we get a predictive equation $y = X^\\text{T}\\beta^{(k)}$ to predict the BodyFat% on the validation set. The figure below shows the result of Lasso method."
   ]
  },
  {
   "cell_type": "code",
   "execution_count": 58,
   "metadata": {},
   "outputs": [
    {
     "data": {},
     "metadata": {},
     "output_type": "display_data"
    },
    {
     "data": {
      "image/png": "[encoded data removed]",
      "text/plain": [
       "plot without title"
      ]
     },
     "metadata": {},
     "output_type": "display_data"
    }
   ],
   "source": [
    "source(\"code/lasso.R\");options(repr.plot.width=8, repr.plot.height=3);p"
   ]
  },
  {
   "cell_type": "markdown",
   "metadata": {},
   "source": [
    "* The x-axis indicates $\\log \\lambda$, and y-axis indicates MSE. \n",
    "* The numbers 0,1,...,14 in the label indicates the number of variables selected in that case. As $\\lambda$ increases, the number of variables selected decreases. \n",
    "* The grey verticle lines indicates where some variables are deleted.\n",
    "\n",
    "Based on the result, we choose $\\lambda$ to be 0.1824 (the highlighted point in the figure), because:\n",
    "* It select only 4 variables. The model is *simple*.\n",
    "* The MSE at this time is relatively small (around 15). The model is *accurate*."
   ]
  },
  {
   "cell_type": "code",
   "execution_count": 59,
   "metadata": {},
   "outputs": [
    {
     "data": {
      "text/html": [
       "<table>\n",
       "<thead><tr><th scope=col>(Intercept)</th><th scope=col>AGE</th><th scope=col>HEIGHT</th><th scope=col>ABDOMEN</th><th scope=col>WRIST</th><th scope=col>lambda</th><th scope=col>MSE</th></tr></thead>\n",
       "<tbody>\n",
       "\t<tr><td>-8.087   </td><td>0.033    </td><td>-0.186   </td><td>0.662    </td><td>-1.242   </td><td>0.1824165</td><td>14.31907 </td></tr>\n",
       "</tbody>\n",
       "</table>\n"
      ],
      "text/latex": [
       "\\begin{tabular}{lllllll}\n",
       " (Intercept) & AGE & HEIGHT & ABDOMEN & WRIST & lambda & MSE\\\\\n",
       "\\hline\n",
       "\t -8.087    & 0.033     & -0.186    & 0.662     & -1.242    & 0.1824165 & 14.31907 \\\\\n",
       "\\end{tabular}\n"
      ],
      "text/markdown": [
       "\n",
       "(Intercept) | AGE | HEIGHT | ABDOMEN | WRIST | lambda | MSE | \n",
       "|---|\n",
       "| -8.087    | 0.033     | -0.186    | 0.662     | -1.242    | 0.1824165 | 14.31907  | \n",
       "\n",
       "\n"
      ],
      "text/plain": [
       "     (Intercept) AGE   HEIGHT ABDOMEN WRIST  lambda    MSE     \n",
       "[1,] -8.087      0.033 -0.186 0.662   -1.242 0.1824165 14.31907"
      ]
     },
     "metadata": {},
     "output_type": "display_data"
    }
   ],
   "source": [
    "lasso.result"
   ]
  },
  {
   "cell_type": "markdown",
   "metadata": {},
   "source": [
    "## 4. Conclusion"
   ]
  },
  {
   "cell_type": "markdown",
   "metadata": {},
   "source": [
    "Based on the two different methods discussed before, we can propose two linear models to predict body fat %:\n",
    "\n",
    "$$\n",
    "\\begin{align} \n",
    "\\text{(BodyFat %)} &= -23.794+0.852*\\text{Abdomen}-1.258*\\text{Wrist}-0.073*\\text{Weight} \\\\\n",
    "\\text{(BodyFat %)} &= -8.087+0.662*\\text{Abdomen}-1.242*\\text{Wrist}-0.186*\\text{Height}+0.033*\\text{Age}\n",
    "\\end{align}\n",
    "$$\n",
    "\n",
    "The MSE for these two models are sepearately: 13.99, 14.32. Because the first model is simpler and more accurate, we prefer the first predictive equation.\n",
    "\n",
    "**Possible rule of thumb**: \"Your abdomen circumference (cm) multiply by 0.85 minus wrist circumference (cm) multiply by 1.26 minus weight (lbs) multiply by 0.07 minus 24\"\n",
    "\n",
    "**Example Usage**: For a normal graduate male student, with circumferences: Abdomen=85cm, Wrist=18cm, Weight=130lbs, his  predicted body fat percentage would be around 16.43%. A 95% probability that his body fat is between 8.26% and 24.59%.\n",
    "\n",
    "**Strengths and weakness**:\n",
    "- Our model selection is based on the prediction of validation set, which avoids overfitting.\n",
    "- The final model is simple and easy to interpret.\n",
    "- In our analysis, we divide the original data into train and validation set, which may lose some information when building the model."
   ]
  },
  {
   "cell_type": "markdown",
   "metadata": {
    "collapsed": true
   },
   "source": [
    "### Each member's contribution\n",
    "* **Shiwei Cao**: Lasso method; Summary writting\n",
    "* **Shurong Gu**: Variable selection and final model building; Summary writting\n",
    "* **Yuwei Sun**: Data preprocessing and presentation materials organizing; Making slides"
   ]
  }
 ],
 "metadata": {
  "celltoolbar": "Raw Cell Format",
  "kernelspec": {
   "display_name": "R",
   "language": "R",
   "name": "ir"
  },
  "language_info": {
   "codemirror_mode": "r",
   "file_extension": ".r",
   "mimetype": "text/x-r-source",
   "name": "R",
   "pygments_lexer": "r",
   "version": "3.4.2"
  }
 },
 "nbformat": 4,
 "nbformat_minor": 2
}
